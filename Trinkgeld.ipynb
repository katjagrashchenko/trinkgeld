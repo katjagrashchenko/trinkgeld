{
 "cells": [
  {
   "cell_type": "markdown",
   "metadata": {},
   "source": [
    "# Trinkgeld Calculator"
   ]
  },
  {
   "cell_type": "code",
   "execution_count": 67,
   "metadata": {},
   "outputs": [
    {
     "name": "stdout",
     "output_type": "stream",
     "text": [
      "['Emelie Appl', 'Açelya Basili', 'Fabrizio Bellia', 'Anna Sophie Blessing', 'Sabulla Bullach', 'Manuel Bär', 'Markus Fuchs', 'Anna Graf', 'Ekaterina Grashchenko', 'Laura Greidenweiß', 'Svenja Halamek', 'Marie Jaussi', 'Okechulowu Ohaebsim', 'Philine Ostermayer', 'Damiano Parziale', 'Luca Principi co Bischoff', 'Pia Schmolly', 'Mauro Sirigu', 'Matthias Strobel', 'Luca Tegeder', 'Jana Wegenke', 'Lilli Wittig', 'Jennifer Wöhrlin']\n"
     ]
    }
   ],
   "source": [
    "import pandas as pd\n",
    "\n",
    "path = ('./data/sample01.xlsx')\n",
    "xl = pd.ExcelFile(path)\n",
    "\n",
    "employees = xl.sheet_names\n",
    "employees.remove('Übersicht')\n",
    "print(employees)"
   ]
  },
  {
   "cell_type": "code",
   "execution_count": 68,
   "metadata": {},
   "outputs": [],
   "source": [
    "class WorkDay:\n",
    "    def __init__(self, tag, startzeit, endzeit, pause_min, dauer_netto_h):\n",
    "        self.tag = tag\n",
    "        self.startzeit = startzeit\n",
    "        self.endzeit = endzeit\n",
    "        self.pause_min = pause_min\n",
    "        self.dauer_netto_h = dauer_netto_h\n",
    "\n",
    "    def __repr__(self):\n",
    "        return f\"{self.tag}: {self.startzeit} - {self.endzeit} ({self.pause_min}) => {self.dauer_netto_h}\"\n",
    "    \n",
    "class Employee:\n",
    "    def __init__(self, name, work_days):\n",
    "        self.name = name\n",
    "        self.work_days = work_days\n",
    "\n",
    "    def __repr__(self):\n",
    "        work_days = '\\n'.join('\\t' + str(work_day) for work_day in self.work_days)\n",
    "        return f\"{self.name}: \\n{work_days}\"\n",
    "\n",
    "def parseTimesFor(name):\n",
    "    sheet = xl.parse(name, header=None)\n",
    "    header = sheet[sheet[0] == 'Tag'].index[0]\n",
    "\n",
    "    data = xl.parse(name, header=header)\n",
    "    data = data[['Tag', 'Startzeit', 'Endzeit', 'Pause (min)', 'Dauer netto (h)']]\n",
    "    data = data[data['Startzeit'].notnull()]\n",
    "    \n",
    "    work_days = []\n",
    "    for _, row in data.iterrows():\n",
    "        work_day = WorkDay(tag=row['Tag'], startzeit=row['Startzeit'], endzeit=row['Endzeit'], pause_min=row['Pause (min)'], dauer_netto_h=row['Dauer netto (h)'])\n",
    "        work_days.append(work_day)\n",
    "\n",
    "    employee = Employee(name=name, work_days=work_days)\n",
    "\n",
    "    return employee"
   ]
  },
  {
   "cell_type": "code",
   "execution_count": 69,
   "metadata": {},
   "outputs": [
    {
     "name": "stdout",
     "output_type": "stream",
     "text": [
      "Emelie Appl: \n",
      "\tDi 11.03.2025: 17:50 - 22:53 (-) => 05:03\n",
      "\tMi 12.03.2025: 16:50 - 22:46 (-) => 05:56\n",
      "Açelya Basili: \n",
      "\tMo 10.03.2025: 17:56 - 22:27 (-) => 04:31\n",
      "Fabrizio Bellia: \n",
      "\tMi 12.03.2025: 10:29 - 21:59 (30) => 11:00\n",
      "\tDo 13.03.2025: 09:50 - 22:27 (58) => 11:39\n",
      "\tFr 14.03.2025: 09:37 - 16:15 (34) => 06:04\n",
      "\tSa 15.03.2025: 16:09 - 21:09 (-) => 05:00\n",
      "\tSo 16.03.2025: 09:39 - 16:59 (31) => 06:49\n",
      "Anna Sophie Blessing: \n",
      "\tMo 10.03.2025: 15:56 - 22:26 (30) => 06:00\n",
      "\tMi 12.03.2025: 16:57 - 22:46 (-) => 05:49\n",
      "\tDo 13.03.2025: 17:59 - 22:32 (-) => 04:33\n",
      "Sabulla Bullach: \n",
      "\tMi 12.03.2025: 14:52 - 22:30 (30) => 07:08\n",
      "\tFr 14.03.2025: 14:53 - 22:21 (30) => 06:58\n",
      "\tSa 15.03.2025: 12:58 - 20:54 (30) => 07:26\n",
      "\tSo 16.03.2025: 13:07 - 21:29 (30) => 07:52\n",
      "Manuel Bär: \n",
      "\tDi 11.03.2025: 10:30 - 19:23 (54) => 07:59\n",
      "\tDo 13.03.2025: 11:01 - 18:44 (53) => 06:50\n",
      "\tFr 14.03.2025: 18:14 - 20:05 (-) => 01:51\n",
      "Markus Fuchs: \n",
      "\tDi 11.03.2025: 09:14 - 17:36 (135) => 06:07\n",
      "\tMi 12.03.2025: 15:25 - 22:56 (30) => 07:01\n",
      "\tFr 14.03.2025: 09:47 - 20:31 (246) => 06:38\n",
      "\tFr 14.03.2025: 22:39 - 23:28 (-) => 00:49\n",
      "\tSa 15.03.2025: 09:22 - 17:55 (30) => 08:03\n",
      "\tSo 16.03.2025: 15:47 - 22:34 (44) => 06:03\n",
      "Anna Graf: \n",
      "\tSo 16.03.2025: 16:05 - 21:49 (15) => 05:29\n",
      "Ekaterina Grashchenko: \n",
      "\tDi 11.03.2025: 15:55 - 23:40 (30) => 07:15\n",
      "\tFr 14.03.2025: 15:50 - 23:27 (34) => 07:03\n",
      "\tSo 16.03.2025: 08:51 - 17:14 (32) => 07:51\n",
      "Laura Greidenweiß: \n",
      "\tMo 10.03.2025: 15:38 - 21:25 (-) => 05:47\n",
      "\tDo 13.03.2025: 09:08 - 17:00 (30) => 07:22\n",
      "\tSa 15.03.2025: 09:00 - 17:36 (30) => 08:06\n",
      "Svenja Halamek: \n",
      "\tDo 13.03.2025: 17:02 - 22:33 (-) => 05:31\n",
      "\tFr 14.03.2025: 17:58 - 23:15 (-) => 05:17\n",
      "\tSa 15.03.2025: 17:02 - 00:00 (30) => 06:28\n",
      "Marie Jaussi: \n",
      "\tMi 12.03.2025: 08:52 - 17:41 (30) => 08:19\n",
      "Okechulowu Ohaebsim: \n",
      "\tSa 15.03.2025: 16:57 - 21:34 (-) => 04:37\n",
      "Philine Ostermayer: \n",
      "\tDi 11.03.2025: 08:50 - 17:46 (33) => 08:23\n",
      "\tDo 13.03.2025: 15:56 - 22:32 (30) => 06:06\n",
      "Damiano Parziale: \n",
      "\tDi 11.03.2025: 08:57 - 17:09 (30) => 07:42\n",
      "Luca Principi co Bischoff: \n",
      "\tFr 14.03.2025: 15:49 - 21:57 (8) => 06:00\n",
      "Pia Schmolly: \n",
      "\tFr 14.03.2025: 17:05 - 23:29 (32) => 05:52\n",
      "\tSo 16.03.2025: 16:10 - 21:49 (-) => 05:39\n",
      "Mauro Sirigu: \n",
      "\tMo 10.03.2025: 09:37 - 22:04 (45) => 11:42\n",
      "\tDi 11.03.2025: 09:44 - 22:30 (51) => 11:55\n",
      "\tFr 14.03.2025: 15:38 - 22:34 (31) => 06:25\n",
      "\tSa 15.03.2025: 09:41 - 17:10 (35) => 06:54\n",
      "\tSo 16.03.2025: 14:00 - 20:36 (30) => 06:06\n",
      "Matthias Strobel: \n",
      "\tDi 11.03.2025: 16:47 - 22:55 (16) => 05:52\n",
      "\tSa 15.03.2025: 15:51 - 23:44 (91) => 06:22\n",
      "Luca Tegeder: \n",
      "\tMi 12.03.2025: 08:52 - 17:03 (30) => 07:41\n",
      "Jana Wegenke: \n",
      "\tFr 14.03.2025: 09:00 - 17:11 (30) => 07:41\n",
      "Lilli Wittig: \n",
      "\tSa 15.03.2025: 17:58 - 23:28 (-) => 05:30\n",
      "Jennifer Wöhrlin: \n",
      "\tMo 10.03.2025: 09:05 - 17:04 (33) => 07:26\n",
      "\tDo 13.03.2025: 08:59 - 15:20 (23) => 05:58\n"
     ]
    }
   ],
   "source": [
    "employee_work_times = []\n",
    "\n",
    "for name in employees:\n",
    "    employee_work_times.append(parseTimesFor(name))\n",
    "\n",
    "for employee in employee_work_times:\n",
    "    print(employee)"
   ]
  }
 ],
 "metadata": {
  "kernelspec": {
   "display_name": "Python 3",
   "language": "python",
   "name": "python3"
  },
  "language_info": {
   "codemirror_mode": {
    "name": "ipython",
    "version": 3
   },
   "file_extension": ".py",
   "mimetype": "text/x-python",
   "name": "python",
   "nbconvert_exporter": "python",
   "pygments_lexer": "ipython3",
   "version": "3.10.12"
  }
 },
 "nbformat": 4,
 "nbformat_minor": 2
}
