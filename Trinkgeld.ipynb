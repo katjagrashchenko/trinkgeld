{
 "cells": [
  {
   "cell_type": "markdown",
   "metadata": {},
   "source": [
    "# Trinkgeld Calculator"
   ]
  },
  {
   "cell_type": "code",
   "execution_count": 3,
   "metadata": {},
   "outputs": [
    {
     "name": "stdout",
     "output_type": "stream",
     "text": [
      "['Übersicht', 'Emelie Appl', 'Açelya Basili', 'Fabrizio Bellia', 'Anna Sophie Blessing', 'Sabulla Bullach', 'Manuel Bär', 'Markus Fuchs', 'Anna Graf', 'Ekaterina Grashchenko', 'Laura Greidenweiß', 'Svenja Halamek', 'Marie Jaussi', 'Okechulowu Ohaebsim', 'Philine Ostermayer', 'Damiano Parziale', 'Luca Principi co Bischoff', 'Pia Schmolly', 'Mauro Sirigu', 'Matthias Strobel', 'Luca Tegeder', 'Jana Wegenke', 'Lilli Wittig', 'Jennifer Wöhrlin']\n"
     ]
    }
   ],
   "source": [
    "import pandas as pd\n",
    "\n",
    "path = ('./data/sample01.xlsx')\n",
    "xl = pd.ExcelFile(path)\n",
    "print(xl.sheet_names)"
   ]
  }
 ],
 "metadata": {
  "kernelspec": {
   "display_name": "Python 3",
   "language": "python",
   "name": "python3"
  },
  "language_info": {
   "codemirror_mode": {
    "name": "ipython",
    "version": 3
   },
   "file_extension": ".py",
   "mimetype": "text/x-python",
   "name": "python",
   "nbconvert_exporter": "python",
   "pygments_lexer": "ipython3",
   "version": "3.10.12"
  }
 },
 "nbformat": 4,
 "nbformat_minor": 2
}
